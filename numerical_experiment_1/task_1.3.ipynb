{
 "cells": [
  {
   "cell_type": "code",
   "execution_count": 1,
   "id": "027f3dd2-ac94-44e9-af21-ef8053f0135a",
   "metadata": {},
   "outputs": [],
   "source": [
    "import numpy as np"
   ]
  },
  {
   "cell_type": "code",
   "execution_count": 9,
   "id": "4df29021-725f-4b70-8ee8-be29b6178243",
   "metadata": {},
   "outputs": [],
   "source": [
    "def estimate_conditional_expectation(num_samples, verbose=True):\n",
    "    \"\"\"\n",
    "    Estimate the conditional expectation based on random coin flip samples.\n",
    "\n",
    "    Parameters:\n",
    "    - num_samples (int): The number of coin flip samples to generate.\n",
    "    - verbose (bool, optional): If True, display the results. Default is True.\n",
    "\n",
    "    Returns:\n",
    "    tuple: A tuple containing the estimated conditional expectation and the real conditional expectation.\n",
    "    \"\"\"\n",
    "\n",
    "    # Generate random coin flip samples\n",
    "    coin_flip_1 = np.random.randint(0, 2, num_samples)\n",
    "    coin_flip_2 = np.random.randint(0, 2, num_samples)\n",
    "    \n",
    "    # Simulated conditional expectation\n",
    "    estimated_expectation = np.mean((coin_flip_1 + coin_flip_2)[coin_flip_1 == 1])\n",
    "    \n",
    "    # Calculate the real conditional expectation\n",
    "    real_expectation = 1.5\n",
    "    \n",
    "    # Display results if verbose is set to True\n",
    "    if verbose:\n",
    "        print(\n",
    "            f\"Parameters:\",\n",
    "            f\"  Num Samples          = {num_samples}\",\n",
    "            \"\",\n",
    "            f\"Results:\",\n",
    "            f\"  Estimated Expectation = {estimated_expectation}\",\n",
    "            f\"  Real Expectation      = {real_expectation}\",\n",
    "            f\"  Absolute Error        = {np.abs(real_expectation - estimated_expectation)}\",\n",
    "            sep='\\n'\n",
    "        )\n",
    "    \n",
    "    return estimated_expectation, real_expectation\n"
   ]
  },
  {
   "cell_type": "code",
   "execution_count": 14,
   "id": "8c8520c0-292d-4822-9d97-f4631e104aff",
   "metadata": {},
   "outputs": [],
   "source": [
    "# Define a function to test different parameter values\n",
    "def test_parameter_combinations():\n",
    "    sample_sizes = [100_000, 500_000, 1_000_000]\n",
    "    \n",
    "    i = 1\n",
    "    for num_samples in sample_sizes:\n",
    "        print(f\"\\nTest {i}:\")\n",
    "        estimate_conditional_expectation(num_samples)\n",
    "        i += 1"
   ]
  },
  {
   "cell_type": "code",
   "execution_count": 15,
   "id": "f17a7199-2771-43eb-b7a4-02f3bdcb2583",
   "metadata": {},
   "outputs": [
    {
     "name": "stdout",
     "output_type": "stream",
     "text": [
      "\n",
      "Test 1:\n",
      "Parameters:\n",
      "  Num Samples          = 100000\n",
      "\n",
      "Results:\n",
      "  Estimated Expectation = 1.5028346708188605\n",
      "  Real Expectation      = 1.5\n",
      "  Absolute Error        = 0.002834670818860463\n",
      "\n",
      "Test 2:\n",
      "Parameters:\n",
      "  Num Samples          = 500000\n",
      "\n",
      "Results:\n",
      "  Estimated Expectation = 1.499811825373947\n",
      "  Real Expectation      = 1.5\n",
      "  Absolute Error        = 0.00018817462605302815\n",
      "\n",
      "Test 3:\n",
      "Parameters:\n",
      "  Num Samples          = 1000000\n",
      "\n",
      "Results:\n",
      "  Estimated Expectation = 1.500347428727049\n",
      "  Real Expectation      = 1.5\n",
      "  Absolute Error        = 0.0003474287270490706\n"
     ]
    }
   ],
   "source": [
    "# Call the test function\n",
    "test_parameter_combinations()"
   ]
  }
 ],
 "metadata": {
  "kernelspec": {
   "display_name": "Python 3 (ipykernel)",
   "language": "python",
   "name": "python3"
  },
  "language_info": {
   "codemirror_mode": {
    "name": "ipython",
    "version": 3
   },
   "file_extension": ".py",
   "mimetype": "text/x-python",
   "name": "python",
   "nbconvert_exporter": "python",
   "pygments_lexer": "ipython3",
   "version": "3.11.4"
  }
 },
 "nbformat": 4,
 "nbformat_minor": 5
}
